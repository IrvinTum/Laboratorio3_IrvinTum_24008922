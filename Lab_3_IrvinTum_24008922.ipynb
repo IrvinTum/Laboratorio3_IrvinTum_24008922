{
 "cells": [
  {
   "cell_type": "markdown",
   "id": "8333338d-8146-4407-a8de-1e72cce15fc2",
   "metadata": {},
   "source": [
    "1) ¿Cuál es el tamaño en bytes de un array de 1000\n",
    "elementos de tipo booleano? 1000 BYTES"
   ]
  },
  {
   "cell_type": "markdown",
   "id": "e14cf0dc-9ac7-488e-b055-e3307c1c2ad5",
   "metadata": {},
   "source": [
    "2) Cree un array cuyos elementos sean los enteros pares en [1,100] y en orden decreciente. Muestre los 10 últimos por pantalla."
   ]
  },
  {
   "cell_type": "code",
   "execution_count": 6,
   "id": "dfa67568-3bd9-4636-a724-af2efd1e934c",
   "metadata": {
    "tags": []
   },
   "outputs": [
    {
     "name": "stdout",
     "output_type": "stream",
     "text": [
      "[20, 18, 16, 14, 12, 10, 8, 6, 4, 2]\n"
     ]
    }
   ],
   "source": [
    "EnterosPares = [i for i in range(100, 0, -2) if i % 2 == 0]\n",
    "\n",
    "print(EnterosPares[-10:])"
   ]
  },
  {
   "cell_type": "markdown",
   "id": "e145229f-3ef3-47f0-ac74-06842797cb6a",
   "metadata": {},
   "source": [
    "3) Dado el array\n",
    "2456 \n",
    "0374 \n",
    "8852 \n",
    "1561\n",
    "\n",
    "Seleccione con una instrucción el subarray de elementos \n",
    "0374\n",
    "Después, seleccione el subarray de elementos\n",
    "25 \n",
    "85\n"
   ]
  },
  {
   "cell_type": "code",
   "execution_count": 10,
   "id": "48578069-83d1-4a0f-b8ac-04e4b76864f5",
   "metadata": {
    "tags": []
   },
   "outputs": [
    {
     "name": "stdout",
     "output_type": "stream",
     "text": [
      "0374\n",
      "['45', '85']\n"
     ]
    }
   ],
   "source": [
    "array = ['2456', '0374', '8852', '1561']\n",
    "subarray_1 = array[1]\n",
    "subarray_2 = [str(array[0])[1:3], str(array[2])[1:3]]\n",
    "\n",
    "print(subarray_1)\n",
    "print(subarray_2)"
   ]
  },
  {
   "cell_type": "markdown",
   "id": "b2b9f294-5491-476f-a55b-0e145bd6c793",
   "metadata": {},
   "source": [
    "4) Dados los arrays a = [1, 4, 2, 7] y b = [1, 3, 2, 9], obtenga la media aritmética de la diferencia (a-b)."
   ]
  },
  {
   "cell_type": "code",
   "execution_count": 11,
   "id": "307d1e1c-d64a-4c0a-8028-f19c8fbf665f",
   "metadata": {
    "tags": []
   },
   "outputs": [
    {
     "name": "stdout",
     "output_type": "stream",
     "text": [
      "-0.25\n"
     ]
    }
   ],
   "source": [
    "import numpy as np\n",
    "\n",
    "a = [1, 4, 2, 7]\n",
    "b = [1, 3, 2, 9]\n",
    "\n",
    "diferencia = np.array(a) - np.array(b)\n",
    "media_diferencia = np.mean(diferencia)\n",
    "\n",
    "print(media_diferencia)"
   ]
  },
  {
   "cell_type": "markdown",
   "id": "44088e41-4126-4f40-a6a2-a00b52dc4570",
   "metadata": {},
   "source": [
    " 5) Tengo valores de cordenadas (x, y) en las columnas del array\n",
    " \n",
    "    1.33 4.5\n",
    "    30.0 10.7\n",
    "    70.2 0.5\n",
    "    \n",
    "    Agregue a este array las coordenadas (37.1, -3.6).\n",
    "    Muestre en pantalla las dimensiones del nuevo array."
   ]
  },
  {
   "cell_type": "code",
   "execution_count": 14,
   "id": "2b3bb9f6-8651-4a7c-be6f-173d7c90f7f5",
   "metadata": {
    "tags": []
   },
   "outputs": [
    {
     "name": "stdout",
     "output_type": "stream",
     "text": [
      "Nuevo array:  [[ 1.33  4.5 ]\n",
      " [30.   10.7 ]\n",
      " [70.2   0.5 ]\n",
      " [37.1  -3.6 ]]\n",
      "Dimensiones del nuevo array:  (4, 2)\n"
     ]
    }
   ],
   "source": [
    "import numpy as np\n",
    "cordenadas = np.array([[1.33, 4.5], [30.0, 10.7], [70.2, 0.5]])\n",
    "nuevas_coordenadas = np.array([[37.1, -3.6]])\n",
    "nuevo_array = np.vstack((cordenadas, nuevas_coordenadas))\n",
    "print(\"Nuevo array: \", nuevo_array)\n",
    "print(\"Dimensiones del nuevo array: \", nuevo_array.shape)"
   ]
  },
  {
   "cell_type": "markdown",
   "id": "db8a073d-3d64-4408-96ff-eb2dbbb2738c",
   "metadata": {},
   "source": [
    "6) Copie el array del ejercicio anterior. Traspóngalo (. Agregue ahora dos nuevos pares de coordenadas: (10.8, 3.0) y (35.8, 12.0)."
   ]
  },
  {
   "cell_type": "code",
   "execution_count": 24,
   "id": "74276a82-ec78-4110-a4df-cab766182e4e",
   "metadata": {
    "tags": []
   },
   "outputs": [
    {
     "name": "stdout",
     "output_type": "stream",
     "text": [
      "cordenadas:  [[ 1.33  4.5 ]\n",
      " [30.   10.7 ]\n",
      " [70.2   0.5 ]]\n",
      "cordenadas transpuestas:  [[ 1.33 30.   70.2 ]\n",
      " [ 4.5  10.7   0.5 ]]\n",
      "Cordenadas agregadas:  [[10.8  3. ]\n",
      " [35.8 12. ]]\n",
      "Nueva cordenadas:  [[ 1.33 30.   70.2  10.8   3.  ]\n",
      " [ 4.5  10.7   0.5  35.8  12.  ]]\n"
     ]
    }
   ],
   "source": [
    "import numpy as np\n",
    "\n",
    "cordenadas = np.array([[1.33, 4.5], [30.0, 10.7], [70.2, 0.5]])\n",
    "cordenadas_transpuesto = np.transpose(cordenadas)\n",
    "agregar_coordenadas = np.array([[10.8, 3.0], [35.8, 12.0]])\n",
    "cordenadas_nuevas = np.append(cordenadas_transpuesto, agregar_coordenadas, axis=1) \n",
    "\n",
    "print(\"cordenadas: \",cordenadas)\n",
    "print(\"cordenadas transpuestas: \", cordenadas_transpuesto)\n",
    "print(\"Cordenadas agregadas: \", agregar_coordenadas)\n",
    "print(\"Nueva cordenadas: \",cordenadas_nuevas)"
   ]
  },
  {
   "cell_type": "markdown",
   "id": "70d3ee18-4d0b-42b1-82bb-00f14b63b1cc",
   "metadata": {},
   "source": [
    "# Parte 2: Exploración y Minería de Datos:"
   ]
  },
  {
   "cell_type": "code",
   "execution_count": 25,
   "id": "f984cc03-9842-473c-80a0-7144ce069948",
   "metadata": {
    "tags": []
   },
   "outputs": [],
   "source": [
    "import pandas as pd\n",
    "import numpy as np"
   ]
  },
  {
   "cell_type": "code",
   "execution_count": 78,
   "id": "9690cb81-ff4a-489e-9cd8-198f7577539e",
   "metadata": {
    "tags": []
   },
   "outputs": [
    {
     "data": {
      "text/html": [
       "<div>\n",
       "<style scoped>\n",
       "    .dataframe tbody tr th:only-of-type {\n",
       "        vertical-align: middle;\n",
       "    }\n",
       "\n",
       "    .dataframe tbody tr th {\n",
       "        vertical-align: top;\n",
       "    }\n",
       "\n",
       "    .dataframe thead th {\n",
       "        text-align: right;\n",
       "    }\n",
       "</style>\n",
       "<table border=\"1\" class=\"dataframe\">\n",
       "  <thead>\n",
       "    <tr style=\"text-align: right;\">\n",
       "      <th></th>\n",
       "      <th>FID</th>\n",
       "      <th>OBJECTID</th>\n",
       "      <th>Texto</th>\n",
       "      <th>Poblacion</th>\n",
       "      <th>CodMun</th>\n",
       "      <th>Municipio</th>\n",
       "      <th>CodProvin</th>\n",
       "      <th>Provincia</th>\n",
       "      <th>X</th>\n",
       "      <th>Y</th>\n",
       "    </tr>\n",
       "  </thead>\n",
       "  <tbody>\n",
       "    <tr>\n",
       "      <th>0</th>\n",
       "      <td>0</td>\n",
       "      <td>1</td>\n",
       "      <td>Agüimes</td>\n",
       "      <td>29431.0</td>\n",
       "      <td>35002</td>\n",
       "      <td>Agüimes</td>\n",
       "      <td>35</td>\n",
       "      <td>Las Palmas</td>\n",
       "      <td>-15.446012</td>\n",
       "      <td>27.900542</td>\n",
       "    </tr>\n",
       "    <tr>\n",
       "      <th>1</th>\n",
       "      <td>1</td>\n",
       "      <td>2</td>\n",
       "      <td>Antigua</td>\n",
       "      <td>10458.0</td>\n",
       "      <td>35003</td>\n",
       "      <td>Antigua</td>\n",
       "      <td>35</td>\n",
       "      <td>Las Palmas</td>\n",
       "      <td>-14.013301</td>\n",
       "      <td>28.418966</td>\n",
       "    </tr>\n",
       "    <tr>\n",
       "      <th>2</th>\n",
       "      <td>2</td>\n",
       "      <td>3</td>\n",
       "      <td>Arrecife</td>\n",
       "      <td>58156.0</td>\n",
       "      <td>35004</td>\n",
       "      <td>Arrecife</td>\n",
       "      <td>35</td>\n",
       "      <td>Las Palmas</td>\n",
       "      <td>-13.551451</td>\n",
       "      <td>28.960649</td>\n",
       "    </tr>\n",
       "    <tr>\n",
       "      <th>3</th>\n",
       "      <td>3</td>\n",
       "      <td>4</td>\n",
       "      <td>Arucas</td>\n",
       "      <td>36745.0</td>\n",
       "      <td>35006</td>\n",
       "      <td>Arucas</td>\n",
       "      <td>35</td>\n",
       "      <td>Las Palmas</td>\n",
       "      <td>-15.521512</td>\n",
       "      <td>28.117496</td>\n",
       "    </tr>\n",
       "    <tr>\n",
       "      <th>4</th>\n",
       "      <td>4</td>\n",
       "      <td>5</td>\n",
       "      <td>Gáldar</td>\n",
       "      <td>24473.0</td>\n",
       "      <td>35009</td>\n",
       "      <td>Gáldar</td>\n",
       "      <td>35</td>\n",
       "      <td>Las Palmas</td>\n",
       "      <td>-15.654111</td>\n",
       "      <td>28.143873</td>\n",
       "    </tr>\n",
       "  </tbody>\n",
       "</table>\n",
       "</div>"
      ],
      "text/plain": [
       "   FID  OBJECTID     Texto  Poblacion  CodMun Municipio  CodProvin  \\\n",
       "0    0         1   Agüimes    29431.0   35002   Agüimes         35   \n",
       "1    1         2   Antigua    10458.0   35003   Antigua         35   \n",
       "2    2         3  Arrecife    58156.0   35004  Arrecife         35   \n",
       "3    3         4    Arucas    36745.0   35006    Arucas         35   \n",
       "4    4         5    Gáldar    24473.0   35009    Gáldar         35   \n",
       "\n",
       "    Provincia          X          Y  \n",
       "0  Las Palmas -15.446012  27.900542  \n",
       "1  Las Palmas -14.013301  28.418966  \n",
       "2  Las Palmas -13.551451  28.960649  \n",
       "3  Las Palmas -15.521512  28.117496  \n",
       "4  Las Palmas -15.654111  28.143873  "
      ]
     },
     "execution_count": 78,
     "metadata": {},
     "output_type": "execute_result"
    }
   ],
   "source": [
    "dataset = pd.read_csv(\"NucleosPoblacion.csv\")\n",
    "dataset.head()"
   ]
  },
  {
   "cell_type": "markdown",
   "id": "b907ee3f-b006-4f46-931e-cafd9f59fea2",
   "metadata": {},
   "source": [
    "1) ¿Cuántos Municipios tienen más de 100000 habitantes?"
   ]
  },
  {
   "cell_type": "code",
   "execution_count": 28,
   "id": "dc251135-88f9-4a55-bf63-a80011ac9c82",
   "metadata": {
    "tags": []
   },
   "outputs": [
    {
     "data": {
      "text/html": [
       "<div>\n",
       "<style scoped>\n",
       "    .dataframe tbody tr th:only-of-type {\n",
       "        vertical-align: middle;\n",
       "    }\n",
       "\n",
       "    .dataframe tbody tr th {\n",
       "        vertical-align: top;\n",
       "    }\n",
       "\n",
       "    .dataframe thead th {\n",
       "        text-align: right;\n",
       "    }\n",
       "</style>\n",
       "<table border=\"1\" class=\"dataframe\">\n",
       "  <thead>\n",
       "    <tr style=\"text-align: right;\">\n",
       "      <th></th>\n",
       "      <th>FID</th>\n",
       "      <th>OBJECTID</th>\n",
       "      <th>Texto</th>\n",
       "      <th>Poblacion</th>\n",
       "      <th>CodMun</th>\n",
       "      <th>Municipio</th>\n",
       "      <th>CodProvin</th>\n",
       "      <th>Provincia</th>\n",
       "      <th>X</th>\n",
       "      <th>Y</th>\n",
       "    </tr>\n",
       "  </thead>\n",
       "  <tbody>\n",
       "    <tr>\n",
       "      <th>9</th>\n",
       "      <td>9</td>\n",
       "      <td>10</td>\n",
       "      <td>Las Palmas de Gran Canaria</td>\n",
       "      <td>383308.0</td>\n",
       "      <td>35016</td>\n",
       "      <td>Las Palmas de Gran Canaria</td>\n",
       "      <td>35</td>\n",
       "      <td>Las Palmas</td>\n",
       "      <td>-15.413387</td>\n",
       "      <td>28.099775</td>\n",
       "    </tr>\n",
       "    <tr>\n",
       "      <th>16</th>\n",
       "      <td>16</td>\n",
       "      <td>17</td>\n",
       "      <td>Telde</td>\n",
       "      <td>100900.0</td>\n",
       "      <td>35026</td>\n",
       "      <td>Telde</td>\n",
       "      <td>35</td>\n",
       "      <td>Las Palmas</td>\n",
       "      <td>-15.416666</td>\n",
       "      <td>27.994202</td>\n",
       "    </tr>\n",
       "    <tr>\n",
       "      <th>28</th>\n",
       "      <td>28</td>\n",
       "      <td>29</td>\n",
       "      <td>San Cristóbal de La Laguna</td>\n",
       "      <td>152222.0</td>\n",
       "      <td>38023</td>\n",
       "      <td>San Cristóbal de La Laguna</td>\n",
       "      <td>38</td>\n",
       "      <td>Santa Cruz de Tenerife</td>\n",
       "      <td>-16.314721</td>\n",
       "      <td>28.487893</td>\n",
       "    </tr>\n",
       "    <tr>\n",
       "      <th>40</th>\n",
       "      <td>40</td>\n",
       "      <td>41</td>\n",
       "      <td>Santa Cruz de Tenerife</td>\n",
       "      <td>222643.0</td>\n",
       "      <td>38038</td>\n",
       "      <td>Santa Cruz de Tenerife</td>\n",
       "      <td>38</td>\n",
       "      <td>Santa Cruz de Tenerife</td>\n",
       "      <td>-16.247264</td>\n",
       "      <td>28.463257</td>\n",
       "    </tr>\n",
       "    <tr>\n",
       "      <th>42</th>\n",
       "      <td>42</td>\n",
       "      <td>43</td>\n",
       "      <td>Badajoz</td>\n",
       "      <td>150376.0</td>\n",
       "      <td>6015</td>\n",
       "      <td>Badajoz</td>\n",
       "      <td>6</td>\n",
       "      <td>Badajoz</td>\n",
       "      <td>-6.970997</td>\n",
       "      <td>38.878743</td>\n",
       "    </tr>\n",
       "    <tr>\n",
       "      <th>...</th>\n",
       "      <td>...</td>\n",
       "      <td>...</td>\n",
       "      <td>...</td>\n",
       "      <td>...</td>\n",
       "      <td>...</td>\n",
       "      <td>...</td>\n",
       "      <td>...</td>\n",
       "      <td>...</td>\n",
       "      <td>...</td>\n",
       "      <td>...</td>\n",
       "    </tr>\n",
       "    <tr>\n",
       "      <th>683</th>\n",
       "      <td>683</td>\n",
       "      <td>684</td>\n",
       "      <td>Santa Coloma de Gramenet</td>\n",
       "      <td>120060.0</td>\n",
       "      <td>8245</td>\n",
       "      <td>Santa Coloma de Gramenet</td>\n",
       "      <td>8</td>\n",
       "      <td>Barcelona</td>\n",
       "      <td>2.212155</td>\n",
       "      <td>41.453657</td>\n",
       "    </tr>\n",
       "    <tr>\n",
       "      <th>689</th>\n",
       "      <td>689</td>\n",
       "      <td>690</td>\n",
       "      <td>Terrassa</td>\n",
       "      <td>212724.0</td>\n",
       "      <td>8279</td>\n",
       "      <td>Terrassa</td>\n",
       "      <td>8</td>\n",
       "      <td>Barcelona</td>\n",
       "      <td>2.012151</td>\n",
       "      <td>41.562363</td>\n",
       "    </tr>\n",
       "    <tr>\n",
       "      <th>725</th>\n",
       "      <td>725</td>\n",
       "      <td>726</td>\n",
       "      <td>Lleida</td>\n",
       "      <td>137387.0</td>\n",
       "      <td>25120</td>\n",
       "      <td>Lleida</td>\n",
       "      <td>25</td>\n",
       "      <td>Lleida</td>\n",
       "      <td>0.620619</td>\n",
       "      <td>41.615274</td>\n",
       "    </tr>\n",
       "    <tr>\n",
       "      <th>735</th>\n",
       "      <td>735</td>\n",
       "      <td>736</td>\n",
       "      <td>Reus</td>\n",
       "      <td>106622.0</td>\n",
       "      <td>43123</td>\n",
       "      <td>Reus</td>\n",
       "      <td>43</td>\n",
       "      <td>Tarragona</td>\n",
       "      <td>1.109861</td>\n",
       "      <td>41.154107</td>\n",
       "    </tr>\n",
       "    <tr>\n",
       "      <th>737</th>\n",
       "      <td>737</td>\n",
       "      <td>738</td>\n",
       "      <td>Tarragona</td>\n",
       "      <td>140184.0</td>\n",
       "      <td>43148</td>\n",
       "      <td>Tarragona</td>\n",
       "      <td>43</td>\n",
       "      <td>Tarragona</td>\n",
       "      <td>1.258422</td>\n",
       "      <td>41.119103</td>\n",
       "    </tr>\n",
       "  </tbody>\n",
       "</table>\n",
       "<p>62 rows × 10 columns</p>\n",
       "</div>"
      ],
      "text/plain": [
       "     FID  OBJECTID                       Texto  Poblacion  CodMun  \\\n",
       "9      9        10  Las Palmas de Gran Canaria   383308.0   35016   \n",
       "16    16        17                       Telde   100900.0   35026   \n",
       "28    28        29  San Cristóbal de La Laguna   152222.0   38023   \n",
       "40    40        41      Santa Cruz de Tenerife   222643.0   38038   \n",
       "42    42        43                     Badajoz   150376.0    6015   \n",
       "..   ...       ...                         ...        ...     ...   \n",
       "683  683       684    Santa Coloma de Gramenet   120060.0    8245   \n",
       "689  689       690                    Terrassa   212724.0    8279   \n",
       "725  725       726                      Lleida   137387.0   25120   \n",
       "735  735       736                        Reus   106622.0   43123   \n",
       "737  737       738                   Tarragona   140184.0   43148   \n",
       "\n",
       "                      Municipio  CodProvin               Provincia          X  \\\n",
       "9    Las Palmas de Gran Canaria         35              Las Palmas -15.413387   \n",
       "16                        Telde         35              Las Palmas -15.416666   \n",
       "28   San Cristóbal de La Laguna         38  Santa Cruz de Tenerife -16.314721   \n",
       "40       Santa Cruz de Tenerife         38  Santa Cruz de Tenerife -16.247264   \n",
       "42                      Badajoz          6                 Badajoz  -6.970997   \n",
       "..                          ...        ...                     ...        ...   \n",
       "683    Santa Coloma de Gramenet          8               Barcelona   2.212155   \n",
       "689                    Terrassa          8               Barcelona   2.012151   \n",
       "725                      Lleida         25                  Lleida   0.620619   \n",
       "735                        Reus         43               Tarragona   1.109861   \n",
       "737                   Tarragona         43               Tarragona   1.258422   \n",
       "\n",
       "             Y  \n",
       "9    28.099775  \n",
       "16   27.994202  \n",
       "28   28.487893  \n",
       "40   28.463257  \n",
       "42   38.878743  \n",
       "..         ...  \n",
       "683  41.453657  \n",
       "689  41.562363  \n",
       "725  41.615274  \n",
       "735  41.154107  \n",
       "737  41.119103  \n",
       "\n",
       "[62 rows x 10 columns]"
      ]
     },
     "execution_count": 28,
     "metadata": {},
     "output_type": "execute_result"
    }
   ],
   "source": [
    "dataset[(dataset['Poblacion'] > 100000)]"
   ]
  },
  {
   "cell_type": "markdown",
   "id": "b6b4c688-7e46-4544-a38c-bdaef77bc326",
   "metadata": {},
   "source": [
    "2) Realice una gráfica de barras sobre la polbación de cada ciudad, ordenela de menor a mayo y responda:\n",
    "a) ¿Cuál es la segunda ciudad más poblada?\n",
    "b) ¿Qué posición ocupa Granada en el ranking de las ciudades más pobladas?"
   ]
  },
  {
   "cell_type": "code",
   "execution_count": 94,
   "id": "899656c6-3000-487b-bfa9-4bb65bafffc8",
   "metadata": {
    "tags": []
   },
   "outputs": [
    {
     "name": "stdout",
     "output_type": "stream",
     "text": [
      "                 Provincia  Poblacion\n",
      "0                    Soria    39838.0\n",
      "1                   Teruel    51532.0\n",
      "2                  Segovia    55748.0\n",
      "3                    Ávila    58245.0\n",
      "4                   Cuenca    71921.0\n",
      "5                  Melilla    76034.0\n",
      "6                    Ceuta    80579.0\n",
      "7                 Palencia    82169.0\n",
      "8                   Zamora    85098.0\n",
      "9                   Huesca   124838.0\n",
      "10             Guadalajara   139373.0\n",
      "11                 Ourense   161821.0\n",
      "12                    Lugo   162422.0\n",
      "13                 Cáceres   176220.0\n",
      "14               Salamanca   197780.0\n",
      "15                  Lleida   199135.0\n",
      "16                La Rioja   203911.0\n",
      "17                  Burgos   250766.0\n",
      "18                   Álava   266717.0\n",
      "19                Albacete   280673.0\n",
      "20                    León   316662.0\n",
      "21                  Toledo   332751.0\n",
      "22             Ciudad Real   348364.0\n",
      "23                 Badajoz   361700.0\n",
      "24                  Huelva   361777.0\n",
      "25              Valladolid   372022.0\n",
      "26                    Jaén   426169.0\n",
      "27               Cantabria   437448.0\n",
      "28                 Navarra   440005.0\n",
      "29                  Girona   474739.0\n",
      "30      Castelló/Castellón   476388.0\n",
      "31               Guipúzcoa   546141.0\n",
      "32                 Almería   550604.0\n",
      "33                 Córdoba   590503.0\n",
      "34               Tarragona   598738.0\n",
      "35                 Granada   604357.0\n",
      "36                Zaragoza   743312.0\n",
      "37              Pontevedra   794690.0\n",
      "38                A Coruña   818982.0\n",
      "39                Asturias   965777.0\n",
      "40                 Vizcaya   984560.0\n",
      "41  Santa Cruz de Tenerife   989964.0\n",
      "42           Illes Balears  1041183.0\n",
      "43                   Cádiz  1166531.0\n",
      "44              Las Palmas  1220407.0\n",
      "45                  Murcia  1599339.0\n",
      "46                 Sevilla  1671058.0\n",
      "47                  Málaga  1702839.0\n",
      "48        Alacant/Alicante  1804252.0\n",
      "49       València/Valencia  2189461.0\n",
      "50               Barcelona  4934795.0\n",
      "51                  Madrid  6315312.0\n"
     ]
    },
    {
     "data": {
      "image/png": "[encoded data removed]",
      "text/plain": [
       "<Figure size 640x480 with 1 Axes>"
      ]
     },
     "metadata": {},
     "output_type": "display_data"
    }
   ],
   "source": [
    "import seaborn as sns\n",
    "import matplotlib.pyplot as plt\n",
    "import pandas as pd\n",
    "\n",
    "# Agrupar los países por continente y calcular la suma de las poblaciones\n",
    "ProvinciaPoblacion= dataset.groupby('Provincia')['Poblacion'].sum()\n",
    "ordenarPoblacion = ProvinciaPoblacion.sort_values()\n",
    "\n",
    "#print(ProvinciaPoblacion)\n",
    "#print(ordenarPoblacion)\n",
    "\n",
    "DataPoblacion = ordenarPoblacion.to_frame().reset_index()  # Convierte la Serie en un DataFrame y reinicia el índice\n",
    "\n",
    "print(DataPoblacion)\n",
    "\n",
    "# Crear el histograma\n",
    "plt.bar(DataPoblacion['Provincia'],DataPoblacion['Poblacion'], color='skyblue')\n",
    "\n",
    "plt.xlabel('Provincia')\n",
    "plt.ylabel('Poblacion')\n",
    "plt.title('Población de cada ciudad')\n",
    "plt.grid(axis='x')\n",
    "\n",
    "# Mostramos la gráfica\n",
    "plt.show()"
   ]
  },
  {
   "cell_type": "markdown",
   "id": "e7914fc4-d26d-4e7c-9957-206ba1967135",
   "metadata": {},
   "source": [
    "3) ¿Cuántos municipios de Extremadura tienen más de 5000 habitantes?."
   ]
  },
  {
   "cell_type": "code",
   "execution_count": 53,
   "id": "1a62702a-7548-40a5-9ed9-e172be395735",
   "metadata": {
    "tags": []
   },
   "outputs": [
    {
     "data": {
      "text/html": [
       "<div>\n",
       "<style scoped>\n",
       "    .dataframe tbody tr th:only-of-type {\n",
       "        vertical-align: middle;\n",
       "    }\n",
       "\n",
       "    .dataframe tbody tr th {\n",
       "        vertical-align: top;\n",
       "    }\n",
       "\n",
       "    .dataframe thead th {\n",
       "        text-align: right;\n",
       "    }\n",
       "</style>\n",
       "<table border=\"1\" class=\"dataframe\">\n",
       "  <thead>\n",
       "    <tr style=\"text-align: right;\">\n",
       "      <th></th>\n",
       "      <th>FID</th>\n",
       "      <th>OBJECTID</th>\n",
       "      <th>Texto</th>\n",
       "      <th>Poblacion</th>\n",
       "      <th>CodMun</th>\n",
       "      <th>Municipio</th>\n",
       "      <th>CodProvin</th>\n",
       "      <th>Provincia</th>\n",
       "      <th>X</th>\n",
       "      <th>Y</th>\n",
       "    </tr>\n",
       "  </thead>\n",
       "  <tbody>\n",
       "  </tbody>\n",
       "</table>\n",
       "</div>"
      ],
      "text/plain": [
       "Empty DataFrame\n",
       "Columns: [FID, OBJECTID, Texto, Poblacion, CodMun, Municipio, CodProvin, Provincia, X, Y]\n",
       "Index: []"
      ]
     },
     "execution_count": 53,
     "metadata": {},
     "output_type": "execute_result"
    }
   ],
   "source": [
    "dataset[dataset['Provincia'] == 'Extremadura']"
   ]
  },
  {
   "cell_type": "markdown",
   "id": "e58d89ab-9ee9-4ddd-bbfc-9e031c00040d",
   "metadata": {},
   "source": [
    "4. ¿Cuál es el municipio situado más al Norte? (Usar el valor de la coordenada \"Y\" que representa la latitud en grados). Proporcione también la provincia a la que pertenece y su población."
   ]
  },
  {
   "cell_type": "code",
   "execution_count": 85,
   "id": "bcf7d571-0cd5-4eff-9c17-48fdf052ced5",
   "metadata": {
    "tags": []
   },
   "outputs": [
    {
     "name": "stdout",
     "output_type": "stream",
     "text": [
      "El municipio situado mas al norte es :  Viveiro\n",
      "Provincia:  Lugo\n",
      "Población:  16211.0\n"
     ]
    }
   ],
   "source": [
    "MunicipioMasNorte = dataset['Y'].idxmax()\n",
    "\n",
    "# Extrae la información del municipio más al norte\n",
    "NombreMunicipioMasNorte = dataset.at[MunicipioMasNorte, 'Municipio']\n",
    "Provincia = dataset.at[MunicipioMasNorte, 'Provincia']\n",
    "Poblacion = dataset.at[MunicipioMasNorte, 'Poblacion']\n",
    "\n",
    "print(\"El municipio situado mas al norte es : \", NombreMunicipioMasNorte)\n",
    "print(\"Provincia: \", Provincia)\n",
    "print(\"Población: \", Poblacion)"
   ]
  },
  {
   "cell_type": "markdown",
   "id": "ff940b6c-9a3c-41a5-9f8a-0ac082ac4737",
   "metadata": {},
   "source": [
    "5) Obtenga la media, mediana, desviación estándar, valor máximo y valor mínimo de la población de los municipios de la provincia de Granada."
   ]
  },
  {
   "cell_type": "code",
   "execution_count": 57,
   "id": "90389d99-fe3a-4c5f-9ecf-2fd54f04a184",
   "metadata": {
    "tags": []
   },
   "outputs": [
    {
     "name": "stdout",
     "output_type": "stream",
     "text": [
      "Minimo: 10037.0\n",
      "Media: 45710.85680751174\n",
      "mediana: 19865.0\n",
      "maximo: 3273049.0\n",
      "Desviacion: 140598.14339650268\n",
      "Varianza: 19767837926.54353\n"
     ]
    }
   ],
   "source": [
    "dataset[dataset['Provincia'] == 'Granada']\n",
    "\n",
    "estadisticos = dataset['Poblacion'].describe()\n",
    "print(\"Minimo:\",estadisticos['min'])\n",
    "print(\"Media:\",estadisticos['mean'])\n",
    "print(\"mediana:\",estadisticos['50%'])\n",
    "print(\"maximo:\",estadisticos['max'])\n",
    "print(\"Desviacion:\",estadisticos['std'])\n",
    "print(\"Varianza:\",estadisticos['std']**2)"
   ]
  },
  {
   "cell_type": "markdown",
   "id": "6d7e3b6e-7abe-4e3b-9260-ea21f981542b",
   "metadata": {},
   "source": [
    "6. Realice un histograma con la población de los\n",
    "Municipios para cada una de las provincias."
   ]
  },
  {
   "cell_type": "code",
   "execution_count": null,
   "id": "bf8c68a2-180d-419f-b6f2-2be3815cf97f",
   "metadata": {},
   "outputs": [],
   "source": []
  },
  {
   "cell_type": "markdown",
   "id": "c4dd0975-4945-4994-b4d5-4b81f85639f4",
   "metadata": {
    "tags": []
   },
   "source": [
    "7. Seleccione al azar cincuenta municipios diferentes de entre los diponibles en el archivo. Asegúrese de que no se repitan. ¿Luego calcule el promedio de la población y la desviación estándar de esto 50 municipios?."
   ]
  },
  {
   "cell_type": "code",
   "execution_count": 64,
   "id": "83d1289a-5f4c-4f0f-81ab-091429a15f0a",
   "metadata": {
    "tags": []
   },
   "outputs": [
    {
     "name": "stdout",
     "output_type": "stream",
     "text": [
      "El promedio de la población es:  40556.1\n",
      "La desviación estándar de la población es:  93808.7200683782\n"
     ]
    }
   ],
   "source": [
    "municipios_aleatorios = dataset.sample(n=50)\n",
    "promedio_poblacion = municipios_aleatorios['Poblacion'].mean()\n",
    "desviacion_estandar = municipios_aleatorios['Poblacion'].std()\n",
    "\n",
    "print(\"El promedio de la población es: \",\n",
    "      promedio_poblacion) \n",
    "print(\"La desviación estándar de la población es: \",\n",
    "      desviacion_estandar)"
   ]
  },
  {
   "cell_type": "markdown",
   "id": "77497c14-607e-4e4c-96aa-a5c968485029",
   "metadata": {},
   "source": [
    "8. Determine los nombres de los Municipios más cercano y más lejano a Madrid. Para ello debe calcular la distancia en todos ellos y Madrid. No considere a Madrid en el análisis ya que la distancia sería cero."
   ]
  },
  {
   "cell_type": "code",
   "execution_count": null,
   "id": "bbae50d2-8906-4518-ac06-ab097c056709",
   "metadata": {},
   "outputs": [],
   "source": []
  }
 ],
 "metadata": {
  "kernelspec": {
   "display_name": "Python 3 (ipykernel)",
   "language": "python",
   "name": "python3"
  },
  "language_info": {
   "codemirror_mode": {
    "name": "ipython",
    "version": 3
   },
   "file_extension": ".py",
   "mimetype": "text/x-python",
   "name": "python",
   "nbconvert_exporter": "python",
   "pygments_lexer": "ipython3",
   "version": "3.11.5"
  }
 },
 "nbformat": 4,
 "nbformat_minor": 5
}
